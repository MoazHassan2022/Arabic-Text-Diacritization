{
 "cells": [
  {
   "cell_type": "code",
   "execution_count": 1,
   "metadata": {},
   "outputs": [
    {
     "name": "stdout",
     "output_type": "stream",
     "text": [
      "Collecting tokenizer\n",
      "  Obtaining dependency information for tokenizer from https://files.pythonhosted.org/packages/8c/9b/26a6371ffe49789e8b03837981f46348c5ef3cdf844fd915c842b10c634a/tokenizer-3.4.3-py2.py3-none-any.whl.metadata\n",
      "  Downloading tokenizer-3.4.3-py2.py3-none-any.whl.metadata (42 kB)\n",
      "     ---------------------------------------- 0.0/42.2 kB ? eta -:--:--\n",
      "     ----------------------------- ---------- 30.7/42.2 kB 1.3 MB/s eta 0:00:01\n",
      "     -------------------------------------- 42.2/42.2 kB 409.8 kB/s eta 0:00:00\n",
      "Downloading tokenizer-3.4.3-py2.py3-none-any.whl (112 kB)\n",
      "   ---------------------------------------- 0.0/112.3 kB ? eta -:--:--\n",
      "   --------------------- ------------------ 61.4/112.3 kB 1.7 MB/s eta 0:00:01\n",
      "   ---------------------------- ---------- 81.9/112.3 kB 919.0 kB/s eta 0:00:01\n",
      "   ---------------------------------- --- 102.4/112.3 kB 658.3 kB/s eta 0:00:01\n",
      "   -------------------------------------- 112.3/112.3 kB 654.1 kB/s eta 0:00:00\n",
      "Installing collected packages: tokenizer\n",
      "Successfully installed tokenizer-3.4.3\n"
     ]
    },
    {
     "name": "stderr",
     "output_type": "stream",
     "text": [
      "\n",
      "[notice] A new release of pip is available: 23.2.1 -> 23.3.1\n",
      "[notice] To update, run: C:\\Users\\Lenovo\\AppData\\Local\\Microsoft\\WindowsApps\\PythonSoftwareFoundation.Python.3.11_qbz5n2kfra8p0\\python.exe -m pip install --upgrade pip\n"
     ]
    }
   ],
   "source": [
    "!pip3 install tokenizer"
   ]
  },
  {
   "cell_type": "code",
   "execution_count": 4,
   "metadata": {},
   "outputs": [],
   "source": [
    "import re\n",
    "from nltk.tokenize import TreebankWordTokenizer\n",
    "from nltk.corpus import stopwords"
   ]
  },
  {
   "cell_type": "code",
   "execution_count": 5,
   "metadata": {},
   "outputs": [],
   "source": [
    "def replace_pattern(text,pattern,replace = ''):\n",
    "    # Replace diacritics from the text\n",
    "    cleaned_text = pattern.sub(replace, text)\n",
    "    return cleaned_text"
   ]
  },
  {
   "cell_type": "code",
   "execution_count": 1,
   "metadata": {},
   "outputs": [],
   "source": [
    "# Example usage\n",
    "arabic_text = \"( وَلَيْسَ لَهُ وَضْعُ خَشَبَةٍ عَلَى حَائِطِ جَارِهِ أَوْ ) الْحَائِطِ ( الْمُشْتَرَكِ ) بِلَا إذْنِهِ ( إلَّا عِنْدَ الضَّرُورَةِ بِأَنْ لَا يُمْكِنَهُ التَّسْقِيفُ إلَّا بِهِ ) أَيْ بِوَضْعِ الْخَشَبِ عَلَى حَائِطِ الْجَارِ أَوْ الْمُشْتَرَكِ ( فَيَجُوزُ ) وَضْعُهُ ، سَوَاءٌ كَانَ لَهُ حَائِطٌ وَاحِدٌ أَوْ حَائِطَانِ لِحَدِيثِ أَبُو هُرَيْرَةَ مَرْفُوعًا { لَا يَمْنَعَنَّ جَارٌ جَارَهُ أَنْ يَضَعَ خَشَبَةً عَلَى جِدَارِهِ ، ثُمَّ يَقُولُ أَبُو هُرَيْرَةَ مَا لِي أَرَاكُمْ عَنْهَا مُعْرِضِينَ وَاَللَّهِ لَأَرْمِيَنَّ بِهَا بَيْنَ أَكْتَافِكُمْ } مُتَّفَقٌ عَلَيْهِ وَمَعْنَاهُ : لَأَضَعَنَّ هَذِهِ السُّنَّةَ بَيْنَ أَكْتَافِكُمْ ، وَلِأَحْمِلَنكُمْ عَلَى الْعَمَلِ بِهَا وَقِيلَ مَعْنَاهُ : لَأَضَعَنَّ جُذُوعَ الْجِيرَانِ عَلَى أَكْتَافِكُمْ مُبَالَغَةً وَلِأَنَّهُ انْتِفَاعٌ بِحَائِطِ جَارِهِ عَلَى وَجْهٍ لَا يَضُرُّ بِهِ أَشْبَهَ الِاسْتِنَادَ إلَيْهِ وَإِنْ أَمْكَنَ وَضْعُهُ عَلَى غَيْرِهِ لَمْ يَجُزْ وَضْعُهُ عَلَيْهِ إلَّا بِإِذْنِ رَبِّهِ وَإِنْ لَمْ يُمْكِنْ إلَّا بِهِ جَازَ ( وَلَوْ ) كَانَ الْحَائِطُ ( لِيَتِيمٍ وَمَجْنُونٍ ) أَوْ مُكَاتَبٍ أَوْ وَقْفٍ وَنَحْوِهِ ، لِعُمُومِ مَا سَبَقَ ( مَا لَمْ يَتَضَرَّرْ الْحَائِطُ ) بِوَضْعِ الْخَشَبِ عَلَيْهِ .\""
   ]
  },
  {
   "cell_type": "code",
   "execution_count": 2,
   "metadata": {},
   "outputs": [],
   "source": [
    "def clean(text):\n",
    "    # remove any brackets that have only numbers inside and remove all numbers \n",
    "    reg = r'\\(\\s*(\\d+)\\s*\\/\\s*(\\d+)\\s*\\)|\\d+'\n",
    "    text = replace_pattern(text, re.compile(reg))\n",
    "    # replace all different types of brackets with a single type\n",
    "    reg_opening_brackets = r'[\\[\\{]'\n",
    "    reg_closing_brackets = r'[\\]\\}]'\n",
    "    text = replace_pattern(text, re.compile(reg_opening_brackets), '(')\n",
    "    text = replace_pattern(text, re.compile(reg_closing_brackets), ')')\n",
    "    # remove some unwanted characters\n",
    "    reg = r'[/!\\-؛،؟:\\.]'\n",
    "    text = replace_pattern(text, re.compile(reg))\n",
    "    # remove extra spaces\n",
    "    reg = r'\\s+'\n",
    "    text = replace_pattern(text, re.compile(reg), ' ')\n",
    "    return text"
   ]
  },
  {
   "cell_type": "code",
   "execution_count": 6,
   "metadata": {},
   "outputs": [
    {
     "name": "stdout",
     "output_type": "stream",
     "text": [
      "( وَلَيْسَ لَهُ وَضْعُ خَشَبَةٍ عَلَى حَائِطِ جَارِهِ أَوْ ) الْحَائِطِ ( الْمُشْتَرَكِ ) بِلَا إذْنِهِ ( إلَّا عِنْدَ الضَّرُورَةِ بِأَنْ لَا يُمْكِنَهُ التَّسْقِيفُ إلَّا بِهِ ) أَيْ بِوَضْعِ الْخَشَبِ عَلَى حَائِطِ الْجَارِ أَوْ الْمُشْتَرَكِ ( فَيَجُوزُ ) وَضْعُهُ سَوَاءٌ كَانَ لَهُ حَائِطٌ وَاحِدٌ أَوْ حَائِطَانِ لِحَدِيثِ أَبُو هُرَيْرَةَ مَرْفُوعًا ( لَا يَمْنَعَنَّ جَارٌ جَارَهُ أَنْ يَضَعَ خَشَبَةً عَلَى جِدَارِهِ ثُمَّ يَقُولُ أَبُو هُرَيْرَةَ مَا لِي أَرَاكُمْ عَنْهَا مُعْرِضِينَ وَاَللَّهِ لَأَرْمِيَنَّ بِهَا بَيْنَ أَكْتَافِكُمْ ) مُتَّفَقٌ عَلَيْهِ وَمَعْنَاهُ لَأَضَعَنَّ هَذِهِ السُّنَّةَ بَيْنَ أَكْتَافِكُمْ وَلِأَحْمِلَنكُمْ عَلَى الْعَمَلِ بِهَا وَقِيلَ مَعْنَاهُ لَأَضَعَنَّ جُذُوعَ الْجِيرَانِ عَلَى أَكْتَافِكُمْ مُبَالَغَةً وَلِأَنَّهُ انْتِفَاعٌ بِحَائِطِ جَارِهِ عَلَى وَجْهٍ لَا يَضُرُّ بِهِ أَشْبَهَ الِاسْتِنَادَ إلَيْهِ وَإِنْ أَمْكَنَ وَضْعُهُ عَلَى غَيْرِهِ لَمْ يَجُزْ وَضْعُهُ عَلَيْهِ إلَّا بِإِذْنِ رَبِّهِ وَإِنْ لَمْ يُمْكِنْ إلَّا بِهِ جَازَ ( وَلَوْ ) كَانَ الْحَائِطُ ( لِيَتِيمٍ وَمَجْنُونٍ ) أَوْ مُكَاتَبٍ أَوْ وَقْفٍ وَنَحْوِهِ لِعُمُومِ مَا سَبَقَ ( مَا لَمْ يَتَضَرَّرْ الْحَائِطُ ) بِوَضْعِ الْخَشَبِ عَلَيْهِ \n"
     ]
    }
   ],
   "source": [
    "print(clean(arabic_text))"
   ]
  },
  {
   "cell_type": "code",
   "execution_count": 5,
   "metadata": {},
   "outputs": [],
   "source": [
    "def split_words_between_brackets(text):\n",
    "    # Define a regular expression pattern to match words between brackets\n",
    "    pattern_in_brackets = re.compile(r'\\((.*?)\\)')\n",
    "    # Find all matches in the text\n",
    "    matches_in_brackets = pattern_in_brackets.findall(text)\n",
    "    # Join all matches into a single string to form a sentence\n",
    "    matches_in_brackets = [match.strip() for match in matches_in_brackets]\n",
    "\n",
    "    # Define a regular expression pattern to match sentences outside brackets\n",
    "    pattern_outside_brackets = re.compile(r'[^()]+(?=\\()|(?<=\\))[^()]+')\n",
    "    # Find all matches in the text\n",
    "    matches_outside_brackets = pattern_outside_brackets.findall(text)\n",
    "    matches_outside_brackets = [match.strip() for match in matches_outside_brackets]\n",
    "    matches_in_brackets.extend(matches_outside_brackets)\n",
    "    return matches_in_brackets"
   ]
  },
  {
   "cell_type": "code",
   "execution_count": 13,
   "metadata": {},
   "outputs": [],
   "source": [
    "def remove_diactrics(text):\n",
    "    # remove diacritics\n",
    "    reg = r'[\\u064B-\\u065F\\u0670\\uFE70-\\uFE7F]'\n",
    "    return replace_pattern(text, re.compile(reg))"
   ]
  },
  {
   "cell_type": "code",
   "execution_count": 10,
   "metadata": {},
   "outputs": [],
   "source": [
    "def preprocess(text, data_type):\n",
    "    # data_type can be 'train', 'val', or 'test'\n",
    "    # clean the text from unwanted characters\n",
    "    text = clean(text)\n",
    "    # split the text into sentences\n",
    "    text = split_words_between_brackets(text)\n",
    "    # if no text was found, return an empty list\n",
    "    if len(text) == 0:\n",
    "        return []\n",
    "    # save the cleaned text with diacritics to a file \n",
    "    with open(f'../dataset/cleaned_{data_type}_data_with_diacritics.txt', 'a+',encoding='utf-8') as f:\n",
    "        f.write('\\n'.join(text))\n",
    "        f.write('\\n')\n",
    "    # remove diacritics\n",
    "    text = [remove_diactrics(sentence) for sentence in text]\n",
    "    # save the cleaned text without diacritics to a file\n",
    "    with open(f'../dataset/cleaned_{data_type}_data_without_diacritics.txt', 'a+',encoding='utf-8') as f:\n",
    "        f.write('\\n'.join(text))\n",
    "        f.write('\\n')\n",
    "    return text"
   ]
  },
  {
   "cell_type": "code",
   "execution_count": 8,
   "metadata": {},
   "outputs": [],
   "source": [
    "def tokenize(text):\n",
    "    # tokenize the text\n",
    "    tokenizer = TreebankWordTokenizer()\n",
    "    # tokens that have list of sentences and each sentence is a list of words\n",
    "    sentences = [tokenizer.tokenize(sentence) for sentence in text]\n",
    "    filtered_sentences = []\n",
    "    for sentence in sentences:\n",
    "        filtered_tokens = [token for token in sentence if token not in stopwords.words('arabic')]\n",
    "        if filtered_tokens != []: filtered_sentences.append(filtered_tokens)\n",
    "    return filtered_sentences"
   ]
  },
  {
   "cell_type": "code",
   "execution_count": 11,
   "metadata": {},
   "outputs": [],
   "source": [
    "def preprocess_data(data_type, limit = 0):\n",
    "    # data_type can be 'train', 'val', or 'test'\n",
    "    # delete the output files if exist\n",
    "    with open(f'../dataset/cleaned_{data_type}_data_with_diacritics.txt', 'w',encoding='utf-8') as f:\n",
    "        pass\n",
    "    with open(f'../dataset/cleaned_{data_type}_data_without_diacritics.txt', 'w',encoding='utf-8') as f:\n",
    "        pass\n",
    "    sentences = []\n",
    "    # read the data and clean it and save it to the files\n",
    "    with open(f'../dataset/{data_type}.txt', 'r',encoding='utf-8') as f:\n",
    "        lines = [next(f).strip() for _ in range(limit)]\n",
    "        for line in lines:\n",
    "            sentences.extend(preprocess(line, data_type))\n",
    "        \n",
    "    return sentences"
   ]
  },
  {
   "cell_type": "code",
   "execution_count": 14,
   "metadata": {},
   "outputs": [
    {
     "name": "stdout",
     "output_type": "stream",
     "text": [
      "['قوله ( أو قطع الأول يده إلخ ) قال الزركشي', 'ابن عرفة قوله بلفظ يقتضيه كإنكار غير حديث بالإسلام وجوب ما علم وجوبه من الدين ضرورة ( كإلقاء مصحف بقذر وشد زنار ) ابن عرفة قول ابن شاس أو بفعل يتضمنه هو كلبس الزنار وإلقاء المصحف في صريح النجاسة والسجود للصنم ونحو ذلك ( وسحر ) محمد قول مالك وأصحابه أن الساحر كافر بالله تعالى قال مالك هو كالزنديق إذا عمل السحر بنفسه قتل ولم يستتب ', '( قوله لعدم ما تتعلق إلخ ) أي الوصية ( قوله ما مر ) أي قبيل قول المتن لغت ولو اقتصر على أوصيت له بشاة أو أعطوه شاة ولا غنم له عند الموت هل تبطل الوصية أو يشترى له شاة ويؤخذ من قوله الآتي كما لو لم يقل من مالي ولا من غنمي أنها لا تبطل وعبارة الكنز ولو لم يقل من مالي ولا من غنمي لم يتعين غنمه إن كانت انتهت ا ه سم ( قوله فيعطى واحدة منها إلخ ) كما لو كانت موجودة عند الوصية والموت ولا يجوز أن يعطى واحدة من غير غنمه في الصورتين وإن تراضيا لأنه صلح على مجهول مغني ونهاية قال ع ش قوله واحدة منها أي كاملة ولا يجوز أن يعطى نصفين من شاتين لأنه لا يسمى شاة وقوله ولا يجوز أن يعطى واحدة من غير غنمه وينبغي أن يقال مثل ذلك في الأرقاء ا ه ', 'وحيوان غير موجود ', 'فائدة قال بعضهم يؤخذ من شرط تمام الملك عدم زكاة حلي الكعبة والمساجد من قناديل وعلائق وصفائح أبواب ', 'وقوله ( لزمته لما قلنا ) يريد قوله لأن الجمع بينهما مشروع في حق الآفاقي ', '( قوله نعم إن طلقها قبل فجره ) ومثله مع الفجر ', 'لكن قال الماوردي والروياني تفريعا على ذلك يعلمه الأغلب من قراءة البلد كما لو أصدقها دراهم فإنه يتعين غالب دراهم البلد أي فإن لم', '( ولا يجوز أن يصوم عن بعض الجزاء ويطعم عن بعض ) نص عليه لأنها كفارة واحدة فلم يجز فيها كسائر الكفارات ', 'لو أخذ ثلاثة أرضا بالنصف ليزرعوها بالشركة فغاب أحدهم وزرع اثنان بعض الأرض برا فحضر الثالث وزرع بعض الأرض شعيرا فلو كان ذلك بإذن كل واحد منهم فالبر بينهم ويرجع رب البر بثلث البر على الثالث والشعير بينهم أيضا أو يرجع هو أيضا عليهما بثلثي الشعير الذي بذر بعد دفع نصيب رب الأرض ولو فعلوا بلا إذن فالبر ثلثه لرب الأرض وثلثاه لهما ويغرمان نقصان ثلث الأرض وأما رب الشعير فخمسة أسداسه له ولرب الأرض سدسه لأن ثلثي الشعير زرع غصبا فهو له وثلثه زرع بحق وعليه نقصان الأرض في قدر ثلثي ذلك كذا في الفصولين من أحكام المزارعة ']\n"
     ]
    }
   ],
   "source": [
    "sentences = preprocess_data('train', 1000)\n",
    "\n",
    "print(sentences[:10])"
   ]
  },
  {
   "cell_type": "code",
   "execution_count": null,
   "metadata": {},
   "outputs": [],
   "source": [
    "# read the data from cleaned files\n",
    "with open('../dataset/cleaned_train_data_with_diacritics.txt', 'r',encoding='utf-8') as f:\n",
    "    sentences_with_diacritics = f.readlines()\n",
    "with open('../dataset/cleaned_train_data_without_diacritics.txt', 'r',encoding='utf-8') as f:\n",
    "    sentences_without_diacritics = f.readlines()"
   ]
  },
  {
   "cell_type": "code",
   "execution_count": null,
   "metadata": {},
   "outputs": [],
   "source": [
    "# tokenize the data\n",
    "sentences_without_diacritics = tokenize(sentences_without_diacritics)"
   ]
  }
 ],
 "metadata": {
  "kernelspec": {
   "display_name": "Python 3",
   "language": "python",
   "name": "python3"
  },
  "language_info": {
   "codemirror_mode": {
    "name": "ipython",
    "version": 3
   },
   "file_extension": ".py",
   "mimetype": "text/x-python",
   "name": "python",
   "nbconvert_exporter": "python",
   "pygments_lexer": "ipython3",
   "version": "3.11.7"
  }
 },
 "nbformat": 4,
 "nbformat_minor": 2
}
