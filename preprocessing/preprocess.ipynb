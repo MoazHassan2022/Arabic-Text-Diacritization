{
 "cells": [
  {
   "cell_type": "code",
   "execution_count": null,
   "metadata": {},
   "outputs": [],
   "source": [
    "!pip3 install tokenizer"
   ]
  },
  {
   "cell_type": "code",
   "execution_count": 4,
   "metadata": {},
   "outputs": [],
   "source": [
    "import re\n",
    "from nltk.tokenize import TreebankWordTokenizer\n",
    "from nltk.corpus import stopwords"
   ]
  },
  {
   "cell_type": "code",
   "execution_count": 5,
   "metadata": {},
   "outputs": [],
   "source": [
    "def replace_pattern(text,pattern,replace = ''):\n",
    "    # Replace diacritics from the text\n",
    "    cleaned_text = pattern.sub(replace, text)\n",
    "    return cleaned_text"
   ]
  },
  {
   "cell_type": "code",
   "execution_count": 25,
   "metadata": {},
   "outputs": [],
   "source": [
    "# Example usage\n",
    "arabic_text = ',»\\–\\';«\\*\\u200f\\\"~( 455)'"
   ]
  },
  {
   "cell_type": "code",
   "execution_count": 23,
   "metadata": {},
   "outputs": [],
   "source": [
    "def clean(lines):\n",
    "    for i in range(len(lines)):\n",
    "        # remove any brackets that have only numbers inside and remove all numbers \n",
    "        reg = r'\\(\\s*(\\d+)\\s*\\)|\\(\\s*(\\d+)\\s*\\/\\s*(\\d+)\\s*\\)|\\d+'\n",
    "        lines[i] = replace_pattern(lines[i], re.compile(reg))\n",
    "        # replace all different types of brackets with a single type\n",
    "        #reg_brackets = r'[\\[\\{\\(\\]\\}\\)]'\n",
    "        #lines[i] = re.compile(reg_brackets).sub('', lines[i])\n",
    "        # remove some unwanted characters\n",
    "        #reg = r'[/!\\-؛،؟:\\.]'\n",
    "        #lines[i] = replace_pattern(lines[i], re.compile(reg))\n",
    "        # remove unwanted characters\n",
    "        #reg = r'[,»–\\';«*\\u200f\"\\\\~`]'\n",
    "        reg = r'\\u200f'\n",
    "        lines[i] = replace_pattern(lines[i], re.compile(reg))\n",
    "        # remove extra spaces\n",
    "        reg = r'\\s+'\n",
    "        \n",
    "        lines[i] = replace_pattern(lines[i], re.compile(reg), ' ')\n",
    "    return lines\n"
   ]
  },
  {
   "cell_type": "code",
   "execution_count": 26,
   "metadata": {},
   "outputs": [
    {
     "name": "stdout",
     "output_type": "stream",
     "text": [
      "[',»\\\\–\\';«\\\\*\"~']\n"
     ]
    }
   ],
   "source": [
    "print(clean([arabic_text]))"
   ]
  },
  {
   "cell_type": "code",
   "execution_count": 5,
   "metadata": {},
   "outputs": [],
   "source": [
    "def split_words_between_brackets(text):\n",
    "    # Define a regular expression pattern to match words between brackets\n",
    "    pattern_in_brackets = re.compile(r'\\((.*?)\\)')\n",
    "    # Find all matches in the text\n",
    "    matches_in_brackets = pattern_in_brackets.findall(text)\n",
    "    # Join all matches into a single string to form a sentence\n",
    "    matches_in_brackets = [match.strip() for match in matches_in_brackets]\n",
    "\n",
    "    # Define a regular expression pattern to match sentences outside brackets\n",
    "    pattern_outside_brackets = re.compile(r'[^()]+(?=\\()|(?<=\\))[^()]+')\n",
    "    # Find all matches in the text\n",
    "    matches_outside_brackets = pattern_outside_brackets.findall(text)\n",
    "    matches_outside_brackets = [match.strip() for match in matches_outside_brackets]\n",
    "    matches_in_brackets.extend(matches_outside_brackets)\n",
    "    return matches_in_brackets"
   ]
  },
  {
   "cell_type": "code",
   "execution_count": 5,
   "metadata": {},
   "outputs": [],
   "source": [
    "def remove_diactrics(lines):\n",
    "    for i in range(len(lines)):\n",
    "        # remove diacritics\n",
    "        reg = r'[\\u064B-\\u065F\\u0670\\uFE70-\\uFE7F]'\n",
    "        lines[i] = replace_pattern(lines[i], re.compile(reg))\n",
    "    return lines"
   ]
  },
  {
   "cell_type": "code",
   "execution_count": 6,
   "metadata": {},
   "outputs": [],
   "source": [
    "def preprocess(lines, data_type):\n",
    "    # data_type can be 'train', 'val', or 'test'\n",
    "    # clean the text from unwanted characters\n",
    "    lines = clean(lines)\n",
    "    if len(lines) == 0:\n",
    "        return lines\n",
    "    # save the cleaned text with diacritics to a file \n",
    "    with open(f'../dataset/cleaned_{data_type}_data_with_diacritics.txt', 'a+',encoding='utf-8') as f:\n",
    "        f.write('\\n'.join(lines))\n",
    "        f.write('\\n')\n",
    "    # remove diacritics\n",
    "    lines = remove_diactrics(lines)\n",
    "    # save the cleaned text without diacritics to a file\n",
    "    with open(f'../dataset/cleaned_{data_type}_data_without_diacritics.txt', 'a+',encoding='utf-8') as f:\n",
    "        f.write('\\n'.join(lines))\n",
    "        f.write('\\n')\n",
    "    return lines"
   ]
  },
  {
   "cell_type": "code",
   "execution_count": 67,
   "metadata": {},
   "outputs": [
    {
     "data": {
      "text/plain": [
       "[',»\\\\–\\';«\\\\*\\u200f\"']"
      ]
     },
     "execution_count": 67,
     "metadata": {},
     "output_type": "execute_result"
    }
   ],
   "source": [
    "preprocess([arabic_text], 'train')"
   ]
  },
  {
   "cell_type": "code",
   "execution_count": 7,
   "metadata": {},
   "outputs": [],
   "source": [
    "def tokenize(text):\n",
    "    # tokenize the text\n",
    "    tokenizer = TreebankWordTokenizer()\n",
    "    # tokens that have list of sentences and each sentence is a list of words\n",
    "    sentences = [tokenizer.tokenize(sentence) for sentence in text]\n",
    "    filtered_sentences = []\n",
    "    for sentence in sentences:\n",
    "        filtered_tokens = [token for token in sentence if token not in stopwords.words('arabic')]\n",
    "        if filtered_tokens != []: filtered_sentences.append(filtered_tokens)\n",
    "    return filtered_sentences"
   ]
  },
  {
   "cell_type": "code",
   "execution_count": 8,
   "metadata": {},
   "outputs": [],
   "source": [
    "def preprocess_data(data_type, limit = None):\n",
    "    # data_type can be 'train', 'val', or 'test'\n",
    "    # delete the output files if exist\n",
    "    with open(f'../dataset/cleaned_{data_type}_data_with_diacritics.txt', 'w',encoding='utf-8') as f:\n",
    "        pass\n",
    "    with open(f'../dataset/cleaned_{data_type}_data_without_diacritics.txt', 'w',encoding='utf-8') as f:\n",
    "        pass\n",
    "    sentences = []\n",
    "    # read the data and clean it and save it to the files\n",
    "    with open(f'../dataset/{data_type}.txt', 'r',encoding='utf-8') as f:\n",
    "        lines = f.readlines()\n",
    "        lines = [line.strip() for line in lines]\n",
    "        if limit == None:\n",
    "            limit = len(lines)\n",
    "        lines = lines[:limit]\n",
    "        sentences = preprocess(lines, data_type)\n",
    "        \n",
    "    return sentences"
   ]
  },
  {
   "cell_type": "code",
   "execution_count": 10,
   "metadata": {},
   "outputs": [],
   "source": [
    "sentences = preprocess_data('val')"
   ]
  },
  {
   "cell_type": "code",
   "execution_count": null,
   "metadata": {},
   "outputs": [],
   "source": [
    "# read the data from cleaned files\n",
    "with open('../dataset/cleaned_train_data_with_diacritics.txt', 'r',encoding='utf-8') as f:\n",
    "    sentences_with_diacritics = f.readlines()\n",
    "with open('../dataset/cleaned_train_data_without_diacritics.txt', 'r',encoding='utf-8') as f:\n",
    "    sentences_without_diacritics = f.readlines()"
   ]
  },
  {
   "cell_type": "code",
   "execution_count": null,
   "metadata": {},
   "outputs": [],
   "source": [
    "# tokenize the data\n",
    "sentences_without_diacritics = tokenize(sentences_without_diacritics)"
   ]
  }
 ],
 "metadata": {
  "kernelspec": {
   "display_name": "Python 3",
   "language": "python",
   "name": "python3"
  },
  "language_info": {
   "codemirror_mode": {
    "name": "ipython",
    "version": 3
   },
   "file_extension": ".py",
   "mimetype": "text/x-python",
   "name": "python",
   "nbconvert_exporter": "python",
   "pygments_lexer": "ipython3",
   "version": "3.11.7"
  }
 },
 "nbformat": 4,
 "nbformat_minor": 2
}
