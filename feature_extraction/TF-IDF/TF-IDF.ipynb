{
 "cells": [
  {
   "cell_type": "code",
   "execution_count": 1,
   "metadata": {},
   "outputs": [],
   "source": [
    "import sys\n",
    "import os\n",
    "sys.path.insert(0, os.path.abspath('../..'))\n",
    "\n",
    "from preprocessing.preprocess import preprocess_data, tokenize"
   ]
  },
  {
   "cell_type": "code",
   "execution_count": 2,
   "metadata": {},
   "outputs": [],
   "source": [
    "# determine the number of n-grams to use in TF-IDF extraction\n",
    "n_gram = 1"
   ]
  },
  {
   "cell_type": "code",
   "execution_count": 8,
   "metadata": {},
   "outputs": [],
   "source": [
    "limit = 1000\n",
    "# read the data\n",
    "x = preprocess_data(data_type='train', limit=limit)\n",
    "# read the test data\n",
    "X = preprocess_data(data_type='val', limit=limit)\n",
    "# preprocess and tokenize data\n",
    "# tokenized_data = tokenize(sentences)\n",
    "    "
   ]
  },
  {
   "cell_type": "markdown",
   "metadata": {},
   "source": [
    "# 1- TF - IDF"
   ]
  },
  {
   "cell_type": "code",
   "execution_count": 4,
   "metadata": {},
   "outputs": [],
   "source": [
    "from sklearn.feature_extraction.text import TfidfVectorizer"
   ]
  },
  {
   "cell_type": "code",
   "execution_count": 5,
   "metadata": {},
   "outputs": [],
   "source": [
    "if n_gram == 1:\n",
    "    ngram_range = (1,1)\n",
    "elif n_gram == 2:\n",
    "    ngram_range = (2,2)\n",
    "elif n_gram == 3:\n",
    "    ngram_range = (3,3)\n",
    "elif n_gram == 4:\n",
    "    ngram_range = (1,2)\n",
    "elif n_gram == 5:\n",
    "    ngram_range = (2,3)\n"
   ]
  },
  {
   "cell_type": "code",
   "execution_count": 6,
   "metadata": {},
   "outputs": [],
   "source": [
    "# initialize the vectorizer with the n-gram range\n",
    "vectorizer = TfidfVectorizer(token_pattern=r'\\S+', ngram_range=ngram_range, use_idf=True, smooth_idf=True)\n",
    "# fit the vectorizer on the trained data\n",
    "x = vectorizer.fit_transform(x)\n",
    "# fit the vectorizer on the test data\n",
    "X = vectorizer.transform(X)"
   ]
  }
 ],
 "metadata": {
  "kernelspec": {
   "display_name": "Python 3",
   "language": "python",
   "name": "python3"
  },
  "language_info": {
   "codemirror_mode": {
    "name": "ipython",
    "version": 3
   },
   "file_extension": ".py",
   "mimetype": "text/x-python",
   "name": "python",
   "nbconvert_exporter": "python",
   "pygments_lexer": "ipython3",
   "version": "3.12.0"
  }
 },
 "nbformat": 4,
 "nbformat_minor": 2
}
