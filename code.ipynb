{
 "cells": [
  {
   "cell_type": "code",
   "execution_count": 178,
   "metadata": {},
   "outputs": [],
   "source": [
    "import re\n",
    "from nltk.tokenize import TreebankWordTokenizer\n",
    "from nltk.corpus import stopwords"
   ]
  },
  {
   "cell_type": "code",
   "execution_count": 179,
   "metadata": {},
   "outputs": [],
   "source": [
    "def replace_pattern(text,pattern,replace = ''):\n",
    "    # Replace diacritics from the text\n",
    "    cleaned_text = pattern.sub(replace, text)\n",
    "    return cleaned_text"
   ]
  },
  {
   "cell_type": "code",
   "execution_count": 180,
   "metadata": {},
   "outputs": [],
   "source": [
    "# Example usage\n",
    "arabic_text = \"قَوْلُهُ : ( أَوْ قَطَعَ الْأَوَّلُ يَدَهُ إلَخْ ) قَالَ الزَّرْكَشِيُّ( 14 / 123 )\""
   ]
  },
  {
   "cell_type": "code",
   "execution_count": 181,
   "metadata": {},
   "outputs": [],
   "source": [
    "def preprocess(text):\n",
    "    # remove any brackets that have only numbers inside and remove all numbers \n",
    "    reg = r'\\(\\s*(\\d+)\\s*\\/\\s*(\\d+)\\s*\\)|\\d+'\n",
    "    text = replace_pattern(text, re.compile(reg))\n",
    "    # replace all different types of brackets with a single type\n",
    "    reg_opening_brackets = r'[\\[\\{]'\n",
    "    reg_closing_brackets = r'[\\]\\}]'\n",
    "    text = replace_pattern(text, re.compile(reg_opening_brackets), '(')\n",
    "    text = replace_pattern(text, re.compile(reg_closing_brackets), ')')\n",
    "    # remove some unwanted characters\n",
    "    reg = r'[/!\\-؛،؟:]'\n",
    "    text = replace_pattern(text, re.compile(reg))\n",
    "    # remove extra spaces\n",
    "    reg = r'\\s+'\n",
    "    text = replace_pattern(text, re.compile(reg), ' ')\n",
    "    return text"
   ]
  },
  {
   "cell_type": "code",
   "execution_count": 182,
   "metadata": {},
   "outputs": [],
   "source": [
    "def tokenize(text):\n",
    "    # tokenize the text\n",
    "    tokenizer = TreebankWordTokenizer()\n",
    "    text = preprocess(text)\n",
    "    tokens = tokenizer.tokenize(text)\n",
    "    filtered_tokens = [token for token in tokens if token not in stopwords.words('arabic')]\n",
    "    return filtered_tokens"
   ]
  },
  {
   "cell_type": "code",
   "execution_count": 183,
   "metadata": {},
   "outputs": [
    {
     "name": "stdout",
     "output_type": "stream",
     "text": [
      "['قَوْلُهُ', '(', 'أَوْ', 'قَطَعَ', 'الْأَوَّلُ', 'يَدَهُ', 'إلَخْ', ')', 'قَالَ', 'الزَّرْكَشِيُّ']\n"
     ]
    }
   ],
   "source": [
    "print(tokenize(arabic_text))"
   ]
  },
  {
   "cell_type": "code",
   "execution_count": 184,
   "metadata": {},
   "outputs": [
    {
     "name": "stdout",
     "output_type": "stream",
     "text": [
      "قَوْلُهُ ( أَوْ قَطَعَ الْأَوَّلُ يَدَهُ إلَخْ ) قَالَ الزَّرْكَشِيُّ\n"
     ]
    }
   ],
   "source": [
    "preprocessed_text = preprocess(arabic_text)\n",
    "print(preprocessed_text)"
   ]
  },
  {
   "cell_type": "code",
   "execution_count": 185,
   "metadata": {},
   "outputs": [
    {
     "name": "stdout",
     "output_type": "stream",
     "text": [
      "قوله : ( أو قطع الأول يده إلخ ) قال الزركشي( 14 / 123 )\n"
     ]
    }
   ],
   "source": [
    "# remove diacritics\n",
    "reg = r'[\\u064B-\\u065F\\u0670\\uFE70-\\uFE7F]'\n",
    "arabic_text = replace_pattern(arabic_text, re.compile(reg))\n",
    "print(arabic_text)"
   ]
  },
  {
   "cell_type": "code",
   "execution_count": null,
   "metadata": {},
   "outputs": [],
   "source": []
  }
 ],
 "metadata": {
  "kernelspec": {
   "display_name": "Python 3",
   "language": "python",
   "name": "python3"
  },
  "language_info": {
   "codemirror_mode": {
    "name": "ipython",
    "version": 3
   },
   "file_extension": ".py",
   "mimetype": "text/x-python",
   "name": "python",
   "nbconvert_exporter": "python",
   "pygments_lexer": "ipython3",
   "version": "3.12.0"
  }
 },
 "nbformat": 4,
 "nbformat_minor": 2
}
