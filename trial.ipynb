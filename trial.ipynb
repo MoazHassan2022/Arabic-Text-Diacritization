{
 "cells": [
  {
   "cell_type": "code",
   "execution_count": 1,
   "metadata": {},
   "outputs": [],
   "source": [
    "# Import necessary libraries\n",
    "import torch\n",
    "import torch.nn as nn\n",
    "import pickle\n",
    "import numpy as np\n",
    "import re"
   ]
  },
  {
   "cell_type": "code",
   "execution_count": 2,
   "metadata": {},
   "outputs": [
    {
     "name": "stdout",
     "output_type": "stream",
     "text": [
      "cuda\n"
     ]
    }
   ],
   "source": [
    "device = torch.device(\"cuda\" if torch.cuda.is_available() else \"cpu\"); print(device)"
   ]
  },
  {
   "cell_type": "code",
   "execution_count": 6,
   "metadata": {},
   "outputs": [
    {
     "name": "stdout",
     "output_type": "stream",
     "text": [
      "قولهأوقطعالأوليدهإلخقالالزركشيابنعرفةقولهبلفظيقتضيهكإنكارغيرحديثبالإسلاموجوبماعلموجوبهمنالدينضرورةكإ\n"
     ]
    }
   ],
   "source": [
    "# load data\n",
    "with open('dataset/cleaned_train_data_with_diacritics.txt', 'r', encoding='utf-8') as file:\n",
    "    training_data_diacritized = re.compile(r'[\\n\\r\\t\\s]').sub('', file.read())\n",
    "with open('dataset/cleaned_train_data_without_diacritics.txt', 'r', encoding='utf-8') as file:\n",
    "    training_data = re.compile(r'[\\n\\r\\t\\s]').sub('', file.read())\n",
    "with open('dataset/cleaned_val_data_with_diacritics.txt', 'r', encoding='utf-8') as file:\n",
    "    validation_data_diacritized = re.compile(r'[\\n\\r\\t\\s]').sub('', file.read())\n",
    "with open('dataset/cleaned_val_data_without_diacritics.txt', 'r', encoding='utf-8') as file:\n",
    "    validation_data = re.compile(r'[\\n\\r\\t\\s]').sub('', file.read())\n",
    "\n",
    "print(training_data[:100])"
   ]
  },
  {
   "cell_type": "code",
   "execution_count": 3,
   "metadata": {},
   "outputs": [],
   "source": [
    "# define the labels and their corresponding indices\n",
    "labels = {\n",
    "    # fatha\n",
    "    '\\u064E':0,\n",
    "    # damma\n",
    "    '\\u064F':1,\n",
    "    # kasra\n",
    "    '\\u0650':2,\n",
    "    # shadda\n",
    "    '\\u0651':3,\n",
    "    # sukun\n",
    "    '\\u0652':4,\n",
    "    # tanween_fatha\n",
    "    '\\u064B':5,\n",
    "    # tanween_damma\n",
    "    '\\u064C':6,\n",
    "    # tanween_kasra\n",
    "    '\\u064D':7\n",
    "}\n",
    "\n",
    "sequence_to_labels = {\n",
    "    # fatha\n",
    "    0:'\\u064E',\n",
    "    # damma\n",
    "    1:'\\u064F',\n",
    "    # kasra\n",
    "    2:'\\u0650',\n",
    "    # shadda\n",
    "    3:'\\u0651',\n",
    "    # sukun\n",
    "    4:'\\u0652',\n",
    "    # tanween_fatha\n",
    "    5:'\\u064B',\n",
    "    # tanween_damma\n",
    "    6:'\\u064C',\n",
    "    # tanween_kasra\n",
    "    7:'\\u064D'\n",
    "}"
   ]
  },
  {
   "cell_type": "code",
   "execution_count": 9,
   "metadata": {},
   "outputs": [
    {
     "name": "stdout",
     "output_type": "stream",
     "text": [
      "{'د': 0, 'ظ': 1, 'إ': 2, 'ه': 3, 'ش': 4, 'س': 5, 'غ': 6, 'ض': 7, 'ع': 8, 'ء': 9, 'ط': 10, 'ا': 11, 'ج': 12, 'ي': 13, 'ب': 14, 'خ': 15, 'أ': 16, 'ف': 17, 'ن': 18, 'ؤ': 19, 'ر': 20, 'ح': 21, 'ئ': 22, 'ى': 23, 'ذ': 24, 'ل': 25, 'ز': 26, 'ث': 27, 'آ': 28, 'و': 29, 'ت': 30, 'م': 31, 'ك': 32, 'ق': 33, 'ص': 34, 'ة': 35}\n",
      "Number of unique characters:  36\n",
      "{'د', 'ظ', 'إ', 'ه', 'ش', 'س', 'غ', 'ض', 'ع', 'ء', 'ط', 'ا', 'ج', 'ي', 'ب', 'خ', 'أ', 'ف', 'ن', 'ؤ', 'ر', 'ح', 'ئ', 'ى', 'ذ', 'ل', 'ز', 'ث', 'آ', 'و', 'ت', 'م', 'ك', 'ق', 'ص', 'ة'}\n",
      "[33, 29, 25, 3, 16, 29, 33, 10, 8, 11]\n"
     ]
    }
   ],
   "source": [
    "# Tokenize the text into sequences at the character level\n",
    "unique_chars = set(''.join(training_data + validation_data))\n",
    "diacritization = list(labels.keys())\n",
    "\n",
    "char_to_index = {char: idx for idx, char in enumerate(unique_chars)}\n",
    "index_to_char = {idx: char for idx, char in enumerate(unique_chars)}\n",
    "\n",
    "print(char_to_index)\n",
    "\n",
    "def text_to_sequence(text):\n",
    "    return [char_to_index[char] for char in text]\n",
    "\n",
    "train_sequence = text_to_sequence(training_data)\n",
    "validation_sequences = text_to_sequence(validation_data)\n",
    "\n",
    "print(\"Number of unique characters: \", len(unique_chars))\n",
    "print(unique_chars)\n",
    "print(train_sequence[:10])"
   ]
  },
  {
   "cell_type": "code",
   "execution_count": 10,
   "metadata": {},
   "outputs": [],
   "source": [
    "embedding_dim = 100"
   ]
  },
  {
   "cell_type": "code",
   "execution_count": null,
   "metadata": {},
   "outputs": [],
   "source": [
    "# Create the embedding layer\n",
    "embedding = nn.Embedding(len(unique_chars), embedding_dim)\n",
    "# Get sequences of unique chars\n",
    "sequences = torch.tensor([idx for idx, _ in index_to_char.items()])\n",
    "# Apply the embedding layer to get the embedding vectors\n",
    "embedding_vectors = embedding(sequences)\n",
    "\n",
    "print(embedding_vectors.shape)\n",
    "print(embedding_vectors)\n"
   ]
  },
  {
   "cell_type": "code",
   "execution_count": null,
   "metadata": {},
   "outputs": [],
   "source": [
    "print(embedding_vectors.shape)\n",
    "print(index_to_char)\n",
    "# Print character embeddings\n",
    "for idx, char in index_to_char.items():\n",
    "    print(f'{char}: {embedding_vectors[idx]}')"
   ]
  },
  {
   "cell_type": "code",
   "execution_count": 13,
   "metadata": {},
   "outputs": [],
   "source": [
    "# save the embedding vectors in pickle file\n",
    "with open('embedding_vectors.pickle', 'wb') as file:\n",
    "    pickle.dump(embedding_vectors, file)"
   ]
  },
  {
   "cell_type": "code",
   "execution_count": 14,
   "metadata": {},
   "outputs": [],
   "source": [
    "# load the embedding vectors from pickle file\n",
    "with open('embedding_vectors.pickle', 'rb') as file:\n",
    "    embedding_vectors = pickle.load(file)"
   ]
  },
  {
   "cell_type": "code",
   "execution_count": 20,
   "metadata": {},
   "outputs": [],
   "source": [
    "# extract the labels of the training data based on the diacritization labels\n",
    "train_labels = []\n",
    "\n",
    "is_bared = False\n",
    "for char in training_data_diacritized:\n",
    "    if char in diacritization and char != '\\u0651':\n",
    "        train_labels.append(labels[char])\n",
    "        is_bared = False\n",
    "    elif is_bared == True:\n",
    "        train_labels.append(-1)\n",
    "        is_bared = False\n",
    "    else: \n",
    "        is_bared = True\n",
    "\n",
    "print(len(train_labels))"
   ]
  },
  {
   "cell_type": "code",
   "execution_count": 19,
   "metadata": {},
   "outputs": [
    {
     "name": "stdout",
     "output_type": "stream",
     "text": [
      "8351478\n",
      "[33, 29, 25, 3, 16, 29, 33, 10, 8, 11, 25, 16, 29, 25, 13, 0, 3, 2, 25, 15]\n",
      "قَوْلُهُأَوْقَطَعَال\n",
      "قولهأوقطعا\n"
     ]
    }
   ],
   "source": [
    "print(len(train_sequence))\n",
    "print(train_sequence[:20])\n",
    "print(training_data_diacritized[:20]) # 8771713\n",
    "print(training_data[:10])"
   ]
  },
  {
   "cell_type": "markdown",
   "metadata": {},
   "source": [
    "# B-LSTM Model\n",
    "## Creating The Model"
   ]
  },
  {
   "cell_type": "code",
   "execution_count": 74,
   "metadata": {},
   "outputs": [],
   "source": [
    "# Create the model B-LSTM\n",
    "class SequenceModel(nn.Module):\n",
    "    def __init__(self, vocab_size, embedding_dim,  hidden_dim, output_dim,  num_layers, drop_prob=0.5):\n",
    "        super().__init__()\n",
    "\n",
    "        # Network Dimensions\n",
    "        self.vocab_size, self.hidden_dim, self.output_dim  = vocab_size, hidden_dim, output_dim\n",
    "        self.num_layers = num_layers\n",
    "    \n",
    "        # Embedding Layer\n",
    "        self.embedding = nn.Embedding(vocab_size, embedding_dim)\n",
    "        \n",
    "        # LSTM Layer\n",
    "        self.lstm = nn.LSTM(input_size=embedding_dim, hidden_size=self.hidden_dim, num_layers=num_layers, batch_first=True)\n",
    "        \n",
    "        # Drop out layer\n",
    "        self.dropout = nn.Dropout(drop_prob)\n",
    "    \n",
    "        # Output Layer\n",
    "        self.output = nn.Linear(self.hidden_dim, output_dim)      # Or make it linear and use Sofrmax (in loss)\n",
    "\n",
    "    def forward(self, x):\n",
    "        \n",
    "        x = self.embedding(x)                                      # B * Seq_Len * embedding_dim\n",
    "        \n",
    "        lstm_out, _ = self.lstm(x)                                     # B * Seq_Len * hidden_dim\n",
    "        \n",
    "        lstm_out =  lstm_out[:, -1, :]                                      # B * hidden_dim\n",
    "\n",
    "        drop_out = self.dropout(lstm_out)                                   # B * hidden_dim\n",
    "\n",
    "        \n",
    "        out = self.output(drop_out)                                         # B * output_dim\n",
    "        \n",
    "        return out\n",
    "        "
   ]
  },
  {
   "cell_type": "markdown",
   "metadata": {},
   "source": [
    "## Initializing The Model"
   ]
  },
  {
   "cell_type": "code",
   "execution_count": 76,
   "metadata": {},
   "outputs": [
    {
     "name": "stdout",
     "output_type": "stream",
     "text": [
      "SequenceModel(\n",
      "  (embedding): Embedding(36, 100)\n",
      "  (lstm): LSTM(100, 100, num_layers=2, batch_first=True)\n",
      "  (dropout): Dropout(p=0.5, inplace=False)\n",
      "  (output): Linear(in_features=100, out_features=8, bias=True)\n",
      ")\n"
     ]
    }
   ],
   "source": [
    "num_layers = 2\n",
    "vocab_size = 36\n",
    "embedding_dim = 100\n",
    "output_dim = 8\n",
    "hidden_dim = 100\n",
    "drop_prob = 0.5\n",
    "lr=0.001\n",
    "clip = 5\n",
    "epochs = 5 \n",
    "WeightedLoss = True\n",
    "# w = torch.tensor(np.load(\"../../Dataset/w1.npy\").astype(np.float32)).to(device)\n",
    "w = torch.tensor([0.3, 0.25, 0.7, 0.5, 0.5, 0.25, 0.25, 0.25]).to(device)\n",
    "model = SequenceModel(vocab_size, embedding_dim,  hidden_dim, output_dim,  num_layers).to(device)\n",
    "\n",
    "print(model)"
   ]
  },
  {
   "cell_type": "markdown",
   "metadata": {},
   "source": [
    "## Training the model"
   ]
  },
  {
   "cell_type": "code",
   "execution_count": 77,
   "metadata": {},
   "outputs": [],
   "source": [
    "# loss and optimization functions\n",
    "if WeightedLoss:\n",
    "    criterion = nn.CrossEntropyLoss(weight=w).to(device)\n",
    "else:\n",
    "    criterion = nn.CrossEntropyLoss().to(device)\n",
    "\n",
    "optimizer = torch.optim.Adam(model.parameters(), lr=lr)"
   ]
  },
  {
   "cell_type": "code",
   "execution_count": null,
   "metadata": {},
   "outputs": [],
   "source": [
    "epoch_tr_loss, epoch_vl_loss = [], []\n",
    "\n",
    "for epoch in range(epochs):\n",
    "    train_losses = []\n",
    "    for inputs, labels in tqdm(train_loader):\n",
    "        \n",
    "        inputs, labels = inputs.to(device), labels.to(device)   \n",
    "        \n",
    "        output = model(inputs)\n",
    "        loss = criterion(output, labels)\n",
    "        \n",
    "        optimizer.zero_grad()\n",
    "        \n",
    "        loss.backward()\n",
    "        \n",
    "        optimizer.step()\n",
    "        \n",
    "        train_losses.append(loss.item())\n",
    "\n",
    "        nn.utils.clip_grad_norm_(model.parameters(), clip)\n",
    "        \n",
    "    val_losses = []\n",
    "    for inputs, labels in valid_loader:\n",
    "        with torch.no_grad():\n",
    "            inputs, labels = inputs.to(device), labels.to(device)\n",
    "            output = model(inputs)\n",
    "            val_loss = criterion(output, labels)\n",
    "            val_losses.append(val_loss.item())\n",
    "\n",
    "    epoch_tr_loss.append(np.mean(train_losses))\n",
    "    epoch_vl_loss.append(np.mean(val_losses))\n",
    "    print(f'Epoch {epoch+1}') \n",
    "    print(25*'==')\n",
    "    if epoch == epochs-1 or epoch_vl_loss[-1] > epoch_tr_loss[-1]:\n",
    "        F1 = f1_score(labels.cpu().numpy(), output.argmax(1).cpu().numpy(), average='macro')\n",
    "        Report = classification_report(labels.cpu().numpy(), output.argmax(1).cpu().numpy(), output_dict=True)\n",
    "        print(\"Done\")\n",
    "        print(classification_report(labels.cpu().numpy(), output.argmax(1).cpu().numpy()))\n",
    "        print(\"Macro F1 Score: \", F1)         \n",
    "        break"
   ]
  }
 ],
 "metadata": {
  "kernelspec": {
   "display_name": "Python 3",
   "language": "python",
   "name": "python3"
  },
  "language_info": {
   "codemirror_mode": {
    "name": "ipython",
    "version": 3
   },
   "file_extension": ".py",
   "mimetype": "text/x-python",
   "name": "python",
   "nbconvert_exporter": "python",
   "pygments_lexer": "ipython3",
   "version": "3.11.7"
  }
 },
 "nbformat": 4,
 "nbformat_minor": 2
}
