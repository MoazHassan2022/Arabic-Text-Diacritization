{
 "cells": [
  {
   "cell_type": "code",
   "execution_count": 16,
   "metadata": {},
   "outputs": [],
   "source": [
    "# Import necessary libraries\n",
    "import torch\n",
    "import torch.nn as nn\n",
    "import torch.optim as optim\n"
   ]
  },
  {
   "cell_type": "code",
   "execution_count": 12,
   "metadata": {},
   "outputs": [
    {
     "name": "stdout",
     "output_type": "stream",
     "text": [
      "قولهأوقطعالأوليدهإلخقالالزركشيابنعرفةقولهبلفظيقتضيهكإنكارغيرحديثبالإسلاموجوبماعلموجوبهمنالدينضرورةكإ\n"
     ]
    }
   ],
   "source": [
    "# load data\n",
    "with open('dataset/cleaned_train_data_with_diacritics.txt', 'r', encoding='utf-8') as file:\n",
    "    training_data_diacritized_lines = file.readlines()\n",
    "with open('dataset/cleaned_train_data_without_diacritics.txt', 'r', encoding='utf-8') as file:\n",
    "    training_data_lines = file.readlines()\n",
    "with open('dataset/cleaned_val_data_with_diacritics.txt', 'r', encoding='utf-8') as file:\n",
    "    validation_data_diacritized_lines = file.readlines()\n",
    "with open('dataset/cleaned_val_data_without_diacritics.txt', 'r', encoding='utf-8') as file:\n",
    "    validation_data_lines = file.readlines()\n",
    "\n",
    "training_data = \"\"\n",
    "for line in training_data_lines:\n",
    "    training_data += ''.join(line.split()).strip()\n",
    "training_data_diacritized = \"\"\n",
    "for line in training_data_diacritized_lines:\n",
    "    training_data_diacritized += ''.join(line.split()).strip()\n",
    "validation_data = \"\"\n",
    "for line in validation_data_lines:\n",
    "    validation_data += ''.join(line.split()).strip()\n",
    "validation_data_diacritized = \"\"\n",
    "for line in validation_data_diacritized_lines:\n",
    "    validation_data_diacritized += ''.join(line.split()).strip()\n",
    "    \n",
    "print(training_data[:100])"
   ]
  },
  {
   "cell_type": "code",
   "execution_count": 13,
   "metadata": {},
   "outputs": [],
   "source": [
    "# define the labels and their corresponding indices\n",
    "labels = {\n",
    "    # fatha\n",
    "    '\\u064E':0,\n",
    "    # damma\n",
    "    '\\u064F':1,\n",
    "    # kasra\n",
    "    '\\u0650':2,\n",
    "    # shadda\n",
    "    '\\u0651':3,\n",
    "    # sukun\n",
    "    '\\u0652':4,\n",
    "    # tanween_fatha\n",
    "    '\\u064B':5,\n",
    "    # tanween_damma\n",
    "    '\\u064C':6,\n",
    "    # tanween_kasra\n",
    "    '\\u064D':7\n",
    "}\n",
    "\n",
    "sequence_to_labels = {\n",
    "    # fatha\n",
    "    0:'\\u064E',\n",
    "    # damma\n",
    "    1:'\\u064F',\n",
    "    # kasra\n",
    "    2:'\\u0650',\n",
    "    # shadda\n",
    "    3:'\\u0651',\n",
    "    # sukun\n",
    "    4:'\\u0652',\n",
    "    # tanween_fatha\n",
    "    5:'\\u064B',\n",
    "    # tanween_damma\n",
    "    6:'\\u064C',\n",
    "    # tanween_kasra\n",
    "    7:'\\u064D'\n",
    "}"
   ]
  },
  {
   "cell_type": "code",
   "execution_count": 17,
   "metadata": {},
   "outputs": [
    {
     "name": "stdout",
     "output_type": "stream",
     "text": [
      "{'ى': 0, 'ل': 1, 'ط': 2, 'ه': 3, 'ث': 4, 'س': 5, 'ف': 6, 'ظ': 7, 'غ': 8, 'ح': 9, 'ي': 10, 'ص': 11, 'إ': 12, 'ت': 13, 'ج': 14, 'ب': 15, 'ئ': 16, 'ا': 17, 'د': 18, 'و': 19, 'ء': 20, 'أ': 21, 'ز': 22, 'ؤ': 23, 'ذ': 24, 'ك': 25, 'ة': 26, 'ن': 27, 'ق': 28, 'ر': 29, 'آ': 30, 'خ': 31, 'ع': 32, 'ش': 33, 'م': 34, 'ض': 35}\n",
      "Number of unique characters:  36\n",
      "{'ى', 'ل', 'ط', 'ه', 'ث', 'س', 'ف', 'ظ', 'غ', 'ح', 'ي', 'ص', 'إ', 'ت', 'ج', 'ب', 'ئ', 'ا', 'د', 'و', 'ء', 'أ', 'ز', 'ؤ', 'ذ', 'ك', 'ة', 'ن', 'ق', 'ر', 'آ', 'خ', 'ع', 'ش', 'م', 'ض'}\n",
      "[28, 19, 1, 3, 21, 19, 28, 2, 32, 17]\n"
     ]
    }
   ],
   "source": [
    "# Tokenize the text into sequences at the character level\n",
    "unique_chars = set(''.join(training_data + validation_data))\n",
    "diacritization = list(labels.keys())\n",
    "\n",
    "char_to_index = {char: idx for idx, char in enumerate(unique_chars)}\n",
    "index_to_char = {idx: char for idx, char in enumerate(unique_chars)}\n",
    "\n",
    "print(char_to_index)\n",
    "\n",
    "def text_to_sequence(text):\n",
    "    return [char_to_index[char] for char in text]\n",
    "\n",
    "train_sequence = text_to_sequence(training_data)\n",
    "validation_sequences = text_to_sequence(validation_data)\n",
    "\n",
    "print(\"Number of unique characters: \", len(unique_chars))\n",
    "print(unique_chars)\n",
    "print(train_sequence[:10])"
   ]
  },
  {
   "cell_type": "code",
   "execution_count": 18,
   "metadata": {},
   "outputs": [
    {
     "name": "stdout",
     "output_type": "stream",
     "text": [
      "CBOW(\n",
      "  (embeddings): Embedding(36, 50)\n",
      "  (linear): Linear(in_features=50, out_features=36, bias=True)\n",
      ")\n"
     ]
    }
   ],
   "source": [
    "# Implementing word embedding using CBOW\n",
    "# CBOW context window size\n",
    "context_window = 2\n",
    "\n",
    "# Define CBOW model\n",
    "class CBOW(nn.Module):\n",
    "    def __init__(self, vocab_size, embedding_dim):\n",
    "        super(CBOW, self).__init__()\n",
    "        # embedding layer \n",
    "        self.embeddings = nn.Embedding(vocab_size, embedding_dim)\n",
    "        # linear layer\n",
    "        self.linear = nn.Linear(embedding_dim, vocab_size)\n",
    "\n",
    "    def forward(self, context):\n",
    "        # The forward method specifies how data flows through the model.\n",
    "        embedded = self.embeddings(context).sum(dim=1)\n",
    "        output = self.linear(embedded)\n",
    "        return output\n",
    "    \n",
    "# Instantiate CBOW model\n",
    "embedding_dim = 50\n",
    "vocab_size = len(unique_chars)\n",
    "cbow_model = CBOW(vocab_size, embedding_dim)\n",
    "\n",
    "print(cbow_model)"
   ]
  }
 ],
 "metadata": {
  "kernelspec": {
   "display_name": "Python 3",
   "language": "python",
   "name": "python3"
  },
  "language_info": {
   "codemirror_mode": {
    "name": "ipython",
    "version": 3
   },
   "file_extension": ".py",
   "mimetype": "text/x-python",
   "name": "python",
   "nbconvert_exporter": "python",
   "pygments_lexer": "ipython3",
   "version": "3.11.5"
  }
 },
 "nbformat": 4,
 "nbformat_minor": 2
}
