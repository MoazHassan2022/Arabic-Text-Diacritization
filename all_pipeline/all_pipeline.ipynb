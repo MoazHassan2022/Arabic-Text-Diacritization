{
 "cells": [
  {
   "cell_type": "code",
   "execution_count": 1,
   "metadata": {},
   "outputs": [],
   "source": [
    "from all_pipeline import load_model, predict_single_sentence, model_path, char_to_index, indicies_to_labels, max_len, batch_size, pickle, CharLSTM, remove_diactrics"
   ]
  },
  {
   "cell_type": "code",
   "execution_count": 2,
   "metadata": {},
   "outputs": [],
   "source": [
    "def calculate_diacritic_error_rate(predictions, gold):\n",
    "    \"\"\"\n",
    "    Calculate the diacritic error rate (DER) for a set of predictions and gold labels.\n",
    "\n",
    "    :param predictions: A list of predictions.\n",
    "    :param gold: A list of gold labels.\n",
    "    :return: The diacritic error rate.\n",
    "    \"\"\"\n",
    "    total = 0\n",
    "    errors = 0\n",
    "    for i in range(len(predictions)):\n",
    "        total += 1\n",
    "        if predictions[i] != gold[i]:\n",
    "            errors += 1\n",
    "    return errors / total"
   ]
  },
  {
   "cell_type": "code",
   "execution_count": 4,
   "metadata": {},
   "outputs": [
    {
     "name": "stdout",
     "output_type": "stream",
     "text": [
      "DER: 3.825%\n",
      "Accuracy: 96.175%\n"
     ]
    }
   ],
   "source": [
    "# load the predictions and gold labels from the csv files, with column label (second column in both files)\n",
    "predictions = []\n",
    "gold = []\n",
    "with open('submission.csv', 'r') as f:\n",
    "    for line in f:\n",
    "        predictions.append(line.strip().split(',')[1])\n",
    "with open('gold.csv', 'r') as f:\n",
    "    for line in f:\n",
    "        gold.append(line.strip().split(',')[1])\n",
    "        \n",
    "# calculate the DER\n",
    "der = calculate_diacritic_error_rate(predictions, gold)\n",
    "print(f'DER: {der * 100:.3f}%')\n",
    "print(f'Accuracy: {(1 - der) * 100:.3f}%')"
   ]
  },
  {
   "cell_type": "code",
   "execution_count": 4,
   "metadata": {},
   "outputs": [],
   "source": [
    "# supress warnings\n",
    "import warnings\n",
    "warnings.filterwarnings('ignore')"
   ]
  },
  {
   "cell_type": "code",
   "execution_count": 5,
   "metadata": {},
   "outputs": [],
   "source": [
    "model=load_model(model_path)"
   ]
  },
  {
   "cell_type": "code",
   "execution_count": 6,
   "metadata": {},
   "outputs": [
    {
     "name": "stdout",
     "output_type": "stream",
     "text": [
      "244\n",
      "ليس للوكيل بالقبض أن يبرأ المدين أو يهب الدين له أو يأخذ رهنا من المدين في مقابل الدين أو يقبل إحالته على شخص آخر لكن له أن يأخذ كفيلا لكن ليس له أن يأخذ كفيلا بشرط براءة الأصيل انظر المادة ( 648 ) ( الأنقروي ، الطحطاوي وصرة الفتاوى ، البحر ) .\n",
      "244\n",
      "لَيْسَ لِلْوَكِيلِ بِالْقَبْضِ أَنْ يَبْرَأَ الْمَدِينُ أَوْ يَهَبَ الدَّيْنَ لَهُ أَوْ يَأْخُذَ رَهْنًا مِنْ الْمَدِينِ فِي مُقَابِلِ الدَّيْنِ أَوْ يُقْبَلَ إحَالَتَهُ عَلَى شَخْصٍ آخَرَ لَكِنْ لَهُ أَنْ يَأْخُذَ كَفِيلًا لَكِنْ لَيْسَ لَهُ أَنْ يَأْخُذَ كَفِيلًا بِشَرْطِ بَرَاءَةِ الْأَصِيلِ اُنْظُرْ الْمَادَّةَ ( 648 ) ( الْأُنْقِرْوِيَّ ، الطَّحْطَاوِيُّ وَصُرَّةُ الْفَتَاوَى ، الْبَحْرُ ) .\n"
     ]
    }
   ],
   "source": [
    "test_sentence = \"ليس للوكيل بالقبض أن يبرأ المدين أو يهب الدين له أو يأخذ رهنا من المدين في مقابل الدين أو يقبل إحالته على شخص آخر لكن له أن يأخذ كفيلا لكن ليس له أن يأخذ كفيلا بشرط براءة الأصيل انظر المادة ( 648 ) ( الأنقروي ، الطحطاوي وصرة الفتاوى ، البحر ) .\"\n",
    "print(len(test_sentence))\n",
    "print(test_sentence)\n",
    "predicted_sentence = predict_single_sentence(model=model, original_sentence=test_sentence, max_len=max_len, char_to_index=char_to_index, indicies_to_labels=indicies_to_labels, batch_size=batch_size)\n",
    "print(len(remove_diactrics([predicted_sentence])[0]))\n",
    "print(predicted_sentence)"
   ]
  }
 ],
 "metadata": {
  "kernelspec": {
   "display_name": "Python 3",
   "language": "python",
   "name": "python3"
  },
  "language_info": {
   "codemirror_mode": {
    "name": "ipython",
    "version": 3
   },
   "file_extension": ".py",
   "mimetype": "text/x-python",
   "name": "python",
   "nbconvert_exporter": "python",
   "pygments_lexer": "ipython3",
   "version": "3.11.7"
  }
 },
 "nbformat": 4,
 "nbformat_minor": 2
}
