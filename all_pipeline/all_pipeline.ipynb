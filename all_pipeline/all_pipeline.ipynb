{
 "cells": [
  {
   "cell_type": "code",
   "execution_count": 1,
   "metadata": {},
   "outputs": [],
   "source": [
    "def calculate_diacritic_error_rate(predictions, gold):\n",
    "    \"\"\"\n",
    "    Calculate the diacritic error rate (DER) for a set of predictions and gold labels.\n",
    "\n",
    "    :param predictions: A list of predictions.\n",
    "    :param gold: A list of gold labels.\n",
    "    :return: The diacritic error rate.\n",
    "    \"\"\"\n",
    "    total = 0\n",
    "    errors = 0\n",
    "    for i in range(len(predictions)):\n",
    "        total += 1\n",
    "        if predictions[i] != gold[i]:\n",
    "            errors += 1\n",
    "    return errors / total"
   ]
  },
  {
   "cell_type": "code",
   "execution_count": 5,
   "metadata": {},
   "outputs": [
    {
     "name": "stdout",
     "output_type": "stream",
     "text": [
      "DER: 3.825%\n",
      "Accuracy: 96.175%\n"
     ]
    }
   ],
   "source": [
    "# load the predictions and gold labels from the csv files, with column label (second column in both files)\n",
    "predictions = []\n",
    "gold = []\n",
    "with open('submission.csv', 'r') as f:\n",
    "    for line in f:\n",
    "        predictions.append(line.strip().split(',')[1])\n",
    "with open('gold.csv', 'r') as f:\n",
    "    for line in f:\n",
    "        gold.append(line.strip().split(',')[1])\n",
    "        \n",
    "# calculate the DER\n",
    "der = calculate_diacritic_error_rate(predictions, gold)\n",
    "print(f'DER: {der * 100:.3f}%')\n",
    "print(f'Accuracy: {(1 - der) * 100:.3f}%')"
   ]
  }
 ],
 "metadata": {
  "kernelspec": {
   "display_name": "Python 3",
   "language": "python",
   "name": "python3"
  },
  "language_info": {
   "codemirror_mode": {
    "name": "ipython",
    "version": 3
   },
   "file_extension": ".py",
   "mimetype": "text/x-python",
   "name": "python",
   "nbconvert_exporter": "python",
   "pygments_lexer": "ipython3",
   "version": "3.11.7"
  }
 },
 "nbformat": 4,
 "nbformat_minor": 2
}
