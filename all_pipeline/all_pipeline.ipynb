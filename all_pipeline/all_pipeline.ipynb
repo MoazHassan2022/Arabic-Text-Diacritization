{
 "cells": [
  {
   "cell_type": "code",
   "execution_count": 20,
   "metadata": {},
   "outputs": [],
   "source": [
    "from all_pipeline import clean, convert2idx, model_path, char_to_index, indicies_to_labels, torch, TensorDataset, DataLoader, re, textwrap, pickle"
   ]
  },
  {
   "cell_type": "code",
   "execution_count": 8,
   "metadata": {},
   "outputs": [],
   "source": [
    "def calculate_diacritic_error_rate(predictions, gold):\n",
    "    \"\"\"\n",
    "    Calculate the diacritic error rate (DER) for a set of predictions and gold labels.\n",
    "\n",
    "    :param predictions: A list of predictions.\n",
    "    :param gold: A list of gold labels.\n",
    "    :return: The diacritic error rate.\n",
    "    \"\"\"\n",
    "    total = 0\n",
    "    errors = 0\n",
    "    for i in range(len(predictions)):\n",
    "        total += 1\n",
    "        if predictions[i] != gold[i]:\n",
    "            errors += 1\n",
    "    return errors / total"
   ]
  },
  {
   "cell_type": "code",
   "execution_count": 10,
   "metadata": {},
   "outputs": [
    {
     "name": "stdout",
     "output_type": "stream",
     "text": [
      "DER: 3.825%\n",
      "Accuracy: 96.175%\n"
     ]
    }
   ],
   "source": [
    "# load the predictions and gold labels from the csv files, with column label (second column in both files)\n",
    "predictions = []\n",
    "gold = []\n",
    "with open('submission.csv', 'r') as f:\n",
    "    for line in f:\n",
    "        predictions.append(line.strip().split(',')[1])\n",
    "with open('gold.csv', 'r') as f:\n",
    "    for line in f:\n",
    "        gold.append(line.strip().split(',')[1])\n",
    "        \n",
    "# calculate the DER\n",
    "der = calculate_diacritic_error_rate(predictions, gold)\n",
    "print(f'DER: {der * 100:.3f}%')\n",
    "print(f'Accuracy: {(1 - der) * 100:.3f}%')"
   ]
  },
  {
   "cell_type": "code",
   "execution_count": 18,
   "metadata": {},
   "outputs": [],
   "source": [
    "def predict_single_sentence(model, sentence='', max_len=200, char_to_index={}, indicies_to_labels={}, batch_size=256):\n",
    "    device = torch.device(\"cuda\" if torch.cuda.is_available() else \"cpu\"); print(device)\n",
    "    \n",
    "    # preprocess the sentence\n",
    "    preprocessed_sentence = sentence.strip()\n",
    "    preprocessed_sentence = clean([preprocessed_sentence])[0]\n",
    "    \n",
    "    # tokenize the sentence\n",
    "    preprocessed_sentence = re.compile(r'[\\n\\r\\t]').sub('', preprocessed_sentence)\n",
    "    preprocessed_sentence = re.compile(r'\\s+').sub(' ', preprocessed_sentence)\n",
    "    preprocessed_sentence = preprocessed_sentence.strip()\n",
    "\n",
    "    tokenized_sentences = []\n",
    "    \n",
    "    # split the line into sentences by dot\n",
    "    dot_splitted_list = preprocessed_sentence.split('.')\n",
    "\n",
    "    # remove last string if empty\n",
    "    if dot_splitted_list[-1] == '':\n",
    "        dot_splitted_list = dot_splitted_list[:-1]\n",
    "\n",
    "    for dot_splitted in dot_splitted_list:\n",
    "        dot_splitted = dot_splitted.strip()\n",
    "        # Split the line into sentences of max_len, without cutting words\n",
    "        sentences = textwrap.wrap(dot_splitted, max_len)\n",
    "\n",
    "        for sentence in sentences:\n",
    "            tokenized_sentences.append(sentence)\n",
    "            \n",
    "    sentence_sequences = convert2idx(data=tokenized_sentences, char_to_index=char_to_index, max_len=max_len, device=device)\n",
    "    \n",
    "    dataset = TensorDataset(sentence_sequences, sentence_sequences)\n",
    "\n",
    "    dataloader = DataLoader(dataset, batch_size=batch_size)\n",
    "\n",
    "    # TODO: refactor from here\n",
    "    outputs = model(sentence_sequences)\n",
    "    outputs = outputs.argmax(dim=2)\n",
    "    outputs = outputs.tolist()\n",
    "    diacritics = []\n",
    "    for output in outputs:\n",
    "        for index in output:\n",
    "            predicted_class = indicies_to_labels[index]\n",
    "            if type(predicted_class) is tuple:\n",
    "                diacritics.append(chr(predicted_class[0]) + chr(predicted_class[1]))\n",
    "            elif predicted_class == 0:\n",
    "                diacritics.append('')\n",
    "            else:\n",
    "                diacritics.append(chr(predicted_class))\n",
    "    print(diacritics)\n",
    "    return diacritics[:len(sentence)]"
   ]
  },
  {
   "cell_type": "code",
   "execution_count": null,
   "metadata": {},
   "outputs": [],
   "source": [
    "with open(model_path, \"rb\") as file:\n",
    "        model = pickle.load(file)\n",
    "        \n",
    "# TODO: call predict_single_sentence with your own sentence"
   ]
  }
 ],
 "metadata": {
  "kernelspec": {
   "display_name": "Python 3",
   "language": "python",
   "name": "python3"
  },
  "language_info": {
   "codemirror_mode": {
    "name": "ipython",
    "version": 3
   },
   "file_extension": ".py",
   "mimetype": "text/x-python",
   "name": "python",
   "nbconvert_exporter": "python",
   "pygments_lexer": "ipython3",
   "version": "3.11.7"
  }
 },
 "nbformat": 4,
 "nbformat_minor": 2
}
