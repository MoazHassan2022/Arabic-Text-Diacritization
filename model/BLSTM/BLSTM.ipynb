{
 "cells": [
  {
   "cell_type": "code",
   "execution_count": 9,
   "metadata": {},
   "outputs": [],
   "source": [
    "# Import necessary libraries\n",
    "import torch\n",
    "import numpy as np\n",
    "import sys\n",
    "import os\n",
    "sys.path.insert(0, os.path.abspath('../..'))\n",
    "from feature_extraction.char_embeddings.char_embeddings import create_char_embeddings"
   ]
  },
  {
   "cell_type": "code",
   "execution_count": 28,
   "metadata": {},
   "outputs": [
    {
     "name": "stdout",
     "output_type": "stream",
     "text": [
      "{'و': 0, 'ء': 1, 'ى': 2, 'ض': 3, 'ث': 4, 'ج': 5, 'ة': 6, 'ؤ': 7, 'ق': 8, 'ن': 9, 'ف': 10, 'ذ': 11, 'ع': 12, 'د': 13, 'ز': 14, 'ب': 15, 'خ': 16, 'ي': 17, 'أ': 18, 'ت': 19, 'غ': 20, 'م': 21, 'ه': 22, 'ط': 23, 'ل': 24, 'ر': 25, 'س': 26, 'إ': 27, 'ك': 28, 'ش': 29, 'آ': 30, 'ص': 31, 'ئ': 32, 'ح': 33, 'ظ': 34, 'ا': 35}\n",
      "{0: 'و', 1: 'ء', 2: 'ى', 3: 'ض', 4: 'ث', 5: 'ج', 6: 'ة', 7: 'ؤ', 8: 'ق', 9: 'ن', 10: 'ف', 11: 'ذ', 12: 'ع', 13: 'د', 14: 'ز', 15: 'ب', 16: 'خ', 17: 'ي', 18: 'أ', 19: 'ت', 20: 'غ', 21: 'م', 22: 'ه', 23: 'ط', 24: 'ل', 25: 'ر', 26: 'س', 27: 'إ', 28: 'ك', 29: 'ش', 30: 'آ', 31: 'ص', 32: 'ئ', 33: 'ح', 34: 'ظ', 35: 'ا'}\n",
      "torch.Size([36, 100])\n",
      "tensor([[ 0.4074, -1.0187, -0.1006,  ...,  0.0241, -0.3256,  0.7574],\n",
      "        [-2.6821,  1.3172,  0.4792,  ...,  0.0190, -0.2773, -0.2839],\n",
      "        [ 0.8576, -1.1525, -0.4350,  ..., -1.6992,  1.2928,  1.3858],\n",
      "        ...,\n",
      "        [ 2.4407,  0.8649,  1.1302,  ...,  0.7448,  0.0830, -0.5607],\n",
      "        [-2.0228, -0.6861,  1.6906,  ...,  0.0298, -1.8552,  0.5739],\n",
      "        [-1.2399, -0.7067,  0.3628,  ..., -0.2901, -0.3067, -0.4837]],\n",
      "       grad_fn=<EmbeddingBackward0>)\n"
     ]
    }
   ],
   "source": [
    "# lines limit\n",
    "limit = 1000\n",
    "dataset_path = '../../dataset'\n",
    "# preprocess data, and create char embeddings\n",
    "embedding_vectors, char_to_index, index_to_char = create_char_embeddings(limit=limit)\n",
    "\n",
    "print(char_to_index)\n",
    "print(index_to_char)\n",
    "print(embedding_vectors.shape)\n",
    "print(embedding_vectors)"
   ]
  },
  {
   "cell_type": "code",
   "execution_count": 10,
   "metadata": {},
   "outputs": [
    {
     "name": "stdout",
     "output_type": "stream",
     "text": [
      "cuda\n"
     ]
    }
   ],
   "source": [
    "device = torch.device(\"cuda\" if torch.cuda.is_available() else \"cpu\"); print(device)"
   ]
  },
  {
   "cell_type": "code",
   "execution_count": 36,
   "metadata": {},
   "outputs": [
    {
     "name": "stdout",
     "output_type": "stream",
     "text": [
      "{0: 0, 1614: 1, 1615: 2, 1616: 3, 1617: 4, 1618: 5, 1611: 6, 1612: 7, 1613: 8, (1617, 1614): 9, (1617, 1615): 10, (1617, 1616): 11, (1617, 1611): 12, (1617, 1612): 13, (1617, 1613): 14}\n",
      "{0: 0, 1: 1614, 2: 1615, 3: 1616, 4: 1617, 5: 1618, 6: 1611, 7: 1612, 8: 1613, 9: (1617, 1614), 10: (1617, 1615), 11: (1617, 1616), 12: (1617, 1611), 13: (1617, 1612), 14: (1617, 1613)}\n"
     ]
    }
   ],
   "source": [
    "# define the diacritics unicode and their corresponding labels classes indices\n",
    "# note that index 0 is reserved for no diacritic\n",
    "labels = {\n",
    "    # no diacritic\n",
    "    0: 0,\n",
    "    # fath\n",
    "    1614: 1,\n",
    "    # damm\n",
    "    1615: 2,\n",
    "    # kasr\n",
    "    1616: 3,\n",
    "    # shadd\n",
    "    1617: 4,\n",
    "    # sukun\n",
    "    1618: 5,\n",
    "    # tanween bel fath\n",
    "    1611: 6,\n",
    "    # tanween bel damm\n",
    "    1612: 7,\n",
    "    # tanween bel kasr\n",
    "    1613: 8,\n",
    "    # shadd and fath\n",
    "    (1617, 1614): 9,\n",
    "    # shadd and damm\n",
    "    (1617, 1615): 10,\n",
    "    # shadd and kasr\n",
    "    (1617, 1616): 11,\n",
    "    # shadd and tanween bel fath\n",
    "    (1617, 1611): 12,\n",
    "    # shadd and tanween bel damm\n",
    "    (1617, 1612): 13,\n",
    "    # shadd and tanween bel kasr\n",
    "    (1617, 1613): 14\n",
    "}\n",
    "\n",
    "indicies_to_labels = {\n",
    "    # no diacritic\n",
    "    0: 0,\n",
    "    # fath\n",
    "    1: 1614,\n",
    "    # damm\n",
    "    2: 1615,\n",
    "    # kasr\n",
    "    3: 1616,\n",
    "    # shadd\n",
    "    4: 1617,\n",
    "    # sukun\n",
    "    5: 1618,\n",
    "    # tanween bel fath\n",
    "    6: 1611,\n",
    "    # tanween bel damm\n",
    "    7: 1612,\n",
    "    # tanween bel kasr\n",
    "    8: 1613,\n",
    "    # shadd and fath\n",
    "    9: (1617, 1614),\n",
    "    # shadd and damm\n",
    "    10: (1617, 1615),\n",
    "    # shadd and kasr\n",
    "    11: (1617, 1616),\n",
    "    # shadd and tanween bel fath\n",
    "    12: (1617, 1611),\n",
    "    # shadd and tanween bel damm\n",
    "    13: (1617, 1612),\n",
    "    # shadd and tanween bel kasr\n",
    "    14: (1617, 1613)\n",
    "}\n",
    "\n",
    "print(labels)\n",
    "print(indicies_to_labels)"
   ]
  },
  {
   "cell_type": "code",
   "execution_count": null,
   "metadata": {},
   "outputs": [],
   "source": []
  }
 ],
 "metadata": {
  "kernelspec": {
   "display_name": "Python 3",
   "language": "python",
   "name": "python3"
  },
  "language_info": {
   "codemirror_mode": {
    "name": "ipython",
    "version": 3
   },
   "file_extension": ".py",
   "mimetype": "text/x-python",
   "name": "python",
   "nbconvert_exporter": "python",
   "pygments_lexer": "ipython3",
   "version": "3.11.7"
  }
 },
 "nbformat": 4,
 "nbformat_minor": 2
}
